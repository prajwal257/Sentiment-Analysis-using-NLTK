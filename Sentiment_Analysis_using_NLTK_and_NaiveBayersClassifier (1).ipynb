{
 "cells": [
  {
   "cell_type": "code",
   "execution_count": 1,
   "metadata": {
    "colab": {
     "base_uri": "https://localhost:8080/"
    },
    "id": "MqBgKR2hns5O",
    "outputId": "2f818eb0-3e70-4887-b5cf-1ed8c71da705"
   },
   "outputs": [
    {
     "name": "stdout",
     "output_type": "stream",
     "text": [
      "Collecting nltk==3.3\n",
      "  Using cached nltk-3.3-py3-none-any.whl\n",
      "Requirement already satisfied: six in c:\\programdata\\anaconda3\\lib\\site-packages (from nltk==3.3) (1.16.0)\n",
      "Installing collected packages: nltkNote: you may need to restart the kernel to use updated packages.\n"
     ]
    },
    {
     "name": "stderr",
     "output_type": "stream",
     "text": [
      "WARNING: Ignoring invalid distribution -ltk (c:\\programdata\\anaconda3\\lib\\site-packages)\n",
      "WARNING: Ignoring invalid distribution -ltk (c:\\programdata\\anaconda3\\lib\\site-packages)\n",
      "WARNING: Ignoring invalid distribution -ltk (c:\\programdata\\anaconda3\\lib\\site-packages)\n",
      "WARNING: Ignoring invalid distribution -ltk (c:\\programdata\\anaconda3\\lib\\site-packages)\n",
      "WARNING: Ignoring invalid distribution -ltk (c:\\programdata\\anaconda3\\lib\\site-packages)\n",
      "WARNING: Ignoring invalid distribution -ltk (c:\\programdata\\anaconda3\\lib\\site-packages)\n"
     ]
    },
    {
     "name": "stdout",
     "output_type": "stream",
     "text": [
      "\n",
      "Successfully installed nltk-3.3\n"
     ]
    }
   ],
   "source": [
    "pip install nltk==3.3"
   ]
  },
  {
   "cell_type": "code",
   "execution_count": 1,
   "metadata": {
    "colab": {
     "base_uri": "https://localhost:8080/"
    },
    "id": "smoHvxj6n_sA",
    "outputId": "c7b90b1e-dcee-4577-d07b-3e931b2c1dbf"
   },
   "outputs": [
    {
     "name": "stdout",
     "output_type": "stream",
     "text": [
      "[nltk_data] Downloading package punkt to\n",
      "[nltk_data]     C:\\Users\\Prajwal\\AppData\\Roaming\\nltk_data...\n",
      "[nltk_data]   Unzipping tokenizers\\punkt.zip.\n",
      "[nltk_data] Downloading package twitter_samples to\n",
      "[nltk_data]     C:\\Users\\Prajwal\\AppData\\Roaming\\nltk_data...\n",
      "[nltk_data]   Unzipping corpora\\twitter_samples.zip.\n"
     ]
    },
    {
     "data": {
      "text/plain": [
       "True"
      ]
     },
     "execution_count": 1,
     "metadata": {},
     "output_type": "execute_result"
    }
   ],
   "source": [
    "import nltk\n",
    "nltk.download('punkt')\n",
    "nltk.download(\"twitter_samples\")"
   ]
  },
  {
   "cell_type": "code",
   "execution_count": 2,
   "metadata": {
    "id": "EjgqaikgoLOy"
   },
   "outputs": [],
   "source": [
    "from nltk.corpus.reader.nkjp import NKJPCorpus_Segmentation_View\n",
    "from nltk.corpus import twitter_samples\n",
    "\n",
    "#initilizing the positive, negative, neutral language samples.\n",
    "positive_samples = twitter_samples.strings('positive_tweets.json')\n",
    "negative_samples = twitter_samples.strings('negative_tweets.json')\n",
    "text = twitter_samples.strings('tweets.20150430-223406.json')"
   ]
  },
  {
   "cell_type": "code",
   "execution_count": 3,
   "metadata": {
    "id": "Vwinmnp-pK_f"
   },
   "outputs": [],
   "source": [
    "#Now tokenizing the data.\n",
    "tweet_tokens = twitter_samples.tokenized('positive_tweets.json')"
   ]
  },
  {
   "cell_type": "code",
   "execution_count": 4,
   "metadata": {
    "colab": {
     "base_uri": "https://localhost:8080/"
    },
    "id": "4aJLEdmQuqqV",
    "outputId": "01f1ac11-6ec7-4fb7-83f6-7b9f0a60beb9"
   },
   "outputs": [
    {
     "name": "stdout",
     "output_type": "stream",
     "text": [
      "['#FollowFriday', '@France_Inte', '@PKuchly57', '@Milipol_Paris', 'for', 'being', 'top', 'engaged', 'members', 'in', 'my', 'community', 'this', 'week', ':)']\n",
      "['@Lamb2ja', 'Hey', 'James', '!', 'How', 'odd', ':/', 'Please', 'call', 'our', 'Contact', 'Centre', 'on', '02392441234', 'and', 'we', 'will', 'be', 'able', 'to', 'assist', 'you', ':)', 'Many', 'thanks', '!']\n",
      "['@DespiteOfficial', 'we', 'had', 'a', 'listen', 'last', 'night', ':)', 'As', 'You', 'Bleed', 'is', 'an', 'amazing', 'track', '.', 'When', 'are', 'you', 'in', 'Scotland', '?', '!']\n",
      "['@97sides', 'CONGRATS', ':)']\n",
      "['yeaaaah', 'yippppy', '!', '!', '!', 'my', 'accnt', 'verified', 'rqst', 'has', 'succeed', 'got', 'a', 'blue', 'tick', 'mark', 'on', 'my', 'fb', 'profile', ':)', 'in', '15', 'days']\n",
      "['@BhaktisBanter', '@PallaviRuhail', 'This', 'one', 'is', 'irresistible', ':)', '#FlipkartFashionFriday', 'http://t.co/EbZ0L2VENM']\n",
      "['We', \"don't\", 'like', 'to', 'keep', 'our', 'lovely', 'customers', 'waiting', 'for', 'long', '!', 'We', 'hope', 'you', 'enjoy', '!', 'Happy', 'Friday', '!', '-', 'LWWF', ':)', 'https://t.co/smyYriipxI']\n",
      "['@Impatientraider', 'On', 'second', 'thought', ',', 'there', '’', 's', 'just', 'not', 'enough', 'time', 'for', 'a', 'DD', ':)', 'But', 'new', 'shorts', 'entering', 'system', '.', 'Sheep', 'must', 'be', 'buying', '.']\n",
      "['Jgh', ',', 'but', 'we', 'have', 'to', 'go', 'to', 'Bayan', ':D', 'bye']\n",
      "['As', 'an', 'act', 'of', 'mischievousness', ',', 'am', 'calling', 'the', 'ETL', 'layer', 'of', 'our', 'in-house', 'warehousing', 'app', 'Katamari', '.', 'Well', '…', 'as', 'the', 'name', 'implies', ':p', '.']\n"
     ]
    }
   ],
   "source": [
    "#printing the top 10 tokenized tweets.\n",
    "for i in range(0, 10):\n",
    "  print(tweet_tokens[i])"
   ]
  },
  {
   "cell_type": "code",
   "execution_count": 5,
   "metadata": {
    "colab": {
     "base_uri": "https://localhost:8080/"
    },
    "id": "x6Hfd_DsvEPy",
    "outputId": "f34e78be-dcea-4961-acd3-75c8de5722fa"
   },
   "outputs": [
    {
     "name": "stdout",
     "output_type": "stream",
     "text": [
      "[nltk_data] Downloading package wordnet to\n",
      "[nltk_data]     C:\\Users\\Prajwal\\AppData\\Roaming\\nltk_data...\n",
      "[nltk_data]   Unzipping corpora\\wordnet.zip.\n",
      "[nltk_data] Downloading package averaged_perceptron_tagger to\n",
      "[nltk_data]     C:\\Users\\Prajwal\\AppData\\Roaming\\nltk_data...\n",
      "[nltk_data]   Unzipping taggers\\averaged_perceptron_tagger.zip.\n"
     ]
    },
    {
     "data": {
      "text/plain": [
       "True"
      ]
     },
     "execution_count": 5,
     "metadata": {},
     "output_type": "execute_result"
    }
   ],
   "source": [
    "#Normalizing the data.\n",
    "nltk.download('wordnet')\n",
    "nltk.download('averaged_perceptron_tagger')"
   ]
  },
  {
   "cell_type": "code",
   "execution_count": 6,
   "metadata": {
    "colab": {
     "base_uri": "https://localhost:8080/"
    },
    "id": "dY00Y_rQ4YCW",
    "outputId": "9f96163a-d246-46d1-d48b-5561a347a69a"
   },
   "outputs": [
    {
     "name": "stdout",
     "output_type": "stream",
     "text": [
      "[('#FollowFriday', 'JJ'), ('@France_Inte', 'NNP'), ('@PKuchly57', 'NNP'), ('@Milipol_Paris', 'NNP'), ('for', 'IN'), ('being', 'VBG'), ('top', 'JJ'), ('engaged', 'VBN'), ('members', 'NNS'), ('in', 'IN'), ('my', 'PRP$'), ('community', 'NN'), ('this', 'DT'), ('week', 'NN'), (':)', 'NN')]\n",
      "[('@Lamb2ja', 'NN'), ('Hey', 'NNP'), ('James', 'NNP'), ('!', '.'), ('How', 'NNP'), ('odd', 'JJ'), (':/', 'NNP'), ('Please', 'NNP'), ('call', 'VB'), ('our', 'PRP$'), ('Contact', 'NNP'), ('Centre', 'NNP'), ('on', 'IN'), ('02392441234', 'CD'), ('and', 'CC'), ('we', 'PRP'), ('will', 'MD'), ('be', 'VB'), ('able', 'JJ'), ('to', 'TO'), ('assist', 'VB'), ('you', 'PRP'), (':)', 'VBP'), ('Many', 'JJ'), ('thanks', 'NNS'), ('!', '.')]\n",
      "[('@DespiteOfficial', 'JJ'), ('we', 'PRP'), ('had', 'VBD'), ('a', 'DT'), ('listen', 'VBN'), ('last', 'JJ'), ('night', 'NN'), (':)', 'NN'), ('As', 'IN'), ('You', 'PRP'), ('Bleed', 'VBP'), ('is', 'VBZ'), ('an', 'DT'), ('amazing', 'JJ'), ('track', 'NN'), ('.', '.'), ('When', 'WRB'), ('are', 'VBP'), ('you', 'PRP'), ('in', 'IN'), ('Scotland', 'NNP'), ('?', '.'), ('!', '.')]\n",
      "[('@97sides', 'NNS'), ('CONGRATS', 'NNP'), (':)', 'VBP')]\n",
      "[('yeaaaah', 'NN'), ('yippppy', 'JJ'), ('!', '.'), ('!', '.'), ('!', '.'), ('my', 'PRP$'), ('accnt', 'JJ'), ('verified', 'VBN'), ('rqst', 'NN'), ('has', 'VBZ'), ('succeed', 'VB'), ('got', 'VBD'), ('a', 'DT'), ('blue', 'JJ'), ('tick', 'NN'), ('mark', 'NN'), ('on', 'IN'), ('my', 'PRP$'), ('fb', 'NN'), ('profile', 'NN'), (':)', 'NN'), ('in', 'IN'), ('15', 'CD'), ('days', 'NNS')]\n",
      "[('@BhaktisBanter', 'RB'), ('@PallaviRuhail', 'NN'), ('This', 'DT'), ('one', 'CD'), ('is', 'VBZ'), ('irresistible', 'JJ'), (':)', 'JJ'), ('#FlipkartFashionFriday', 'NN'), ('http://t.co/EbZ0L2VENM', 'NN')]\n",
      "[('We', 'PRP'), (\"don't\", 'VBP'), ('like', 'IN'), ('to', 'TO'), ('keep', 'VB'), ('our', 'PRP$'), ('lovely', 'JJ'), ('customers', 'NNS'), ('waiting', 'VBG'), ('for', 'IN'), ('long', 'RB'), ('!', '.'), ('We', 'PRP'), ('hope', 'VBP'), ('you', 'PRP'), ('enjoy', 'VBP'), ('!', '.'), ('Happy', 'JJ'), ('Friday', 'NNP'), ('!', '.'), ('-', ':'), ('LWWF', 'NNP'), (':)', 'NNP'), ('https://t.co/smyYriipxI', 'NN')]\n",
      "[('@Impatientraider', 'NN'), ('On', 'IN'), ('second', 'JJ'), ('thought', 'NN'), (',', ','), ('there', 'EX'), ('’', 'NNP'), ('s', 'NN'), ('just', 'RB'), ('not', 'RB'), ('enough', 'JJ'), ('time', 'NN'), ('for', 'IN'), ('a', 'DT'), ('DD', 'NNP'), (':)', 'NNP'), ('But', 'CC'), ('new', 'JJ'), ('shorts', 'NNS'), ('entering', 'VBG'), ('system', 'NN'), ('.', '.'), ('Sheep', 'VB'), ('must', 'MD'), ('be', 'VB'), ('buying', 'VBG'), ('.', '.')]\n",
      "[('Jgh', 'NNP'), (',', ','), ('but', 'CC'), ('we', 'PRP'), ('have', 'VBP'), ('to', 'TO'), ('go', 'VB'), ('to', 'TO'), ('Bayan', 'NNP'), (':D', 'NNP'), ('bye', 'NN')]\n",
      "[('As', 'IN'), ('an', 'DT'), ('act', 'NN'), ('of', 'IN'), ('mischievousness', 'NN'), (',', ','), ('am', 'VBP'), ('calling', 'VBG'), ('the', 'DT'), ('ETL', 'NNP'), ('layer', 'NN'), ('of', 'IN'), ('our', 'PRP$'), ('in-house', 'NN'), ('warehousing', 'VBG'), ('app', 'JJ'), ('Katamari', 'NNP'), ('.', '.'), ('Well', 'NNP'), ('…', 'RB'), ('as', 'IN'), ('the', 'DT'), ('name', 'NN'), ('implies', 'VBZ'), (':p', 'NNP'), ('.', '.')]\n"
     ]
    }
   ],
   "source": [
    "from nltk.tag import pos_tag\n",
    "for i in range(0, 10):\n",
    "  print(pos_tag(tweet_tokens[i]))"
   ]
  },
  {
   "cell_type": "code",
   "execution_count": 7,
   "metadata": {
    "colab": {
     "base_uri": "https://localhost:8080/"
    },
    "id": "v2enG4jv-gdA",
    "outputId": "e220aa1d-523a-4f7b-ab3d-5e5a1e0540d2"
   },
   "outputs": [
    {
     "name": "stdout",
     "output_type": "stream",
     "text": [
      "[nltk_data] Downloading package stopwords to\n",
      "[nltk_data]     C:\\Users\\Prajwal\\AppData\\Roaming\\nltk_data...\n",
      "[nltk_data]   Unzipping corpora\\stopwords.zip.\n"
     ]
    }
   ],
   "source": [
    "#Preparing for the Normalization and Noise Cleaning step. \n",
    "#So importing the standard stoping words in English.\n",
    "nltk.download('stopwords')\n",
    "from nltk.corpus import stopwords\n",
    "stop_words = stopwords.words('english')\n",
    "#importing the Lemmatizer method from nltk.\n",
    "from nltk.stem.wordnet import WordNetLemmatizer\n",
    "import re, string"
   ]
  },
  {
   "cell_type": "code",
   "execution_count": 8,
   "metadata": {
    "colab": {
     "base_uri": "https://localhost:8080/"
    },
    "id": "LJes3jPN4-3_",
    "outputId": "213200b2-f496-48a1-ca84-1b296923ed87"
   },
   "outputs": [
    {
     "name": "stdout",
     "output_type": "stream",
     "text": [
      "['#followfriday', 'for', 'be', 'top', 'engage', 'member', 'in', 'my', 'community', 'this', 'week', ':)']\n",
      "['hey', 'james', 'how', 'odd', ':/', 'please', 'call', 'our', 'contact', 'centre', 'on', '02392441234', 'and', 'we', 'will', 'be', 'able', 'to', 'assist', 'you', ':)', 'many', 'thanks']\n",
      "['we', 'have', 'a', 'listen', 'last', 'night', ':)', 'as', 'you', 'bleed', 'be', 'an', 'amazing', 'track', 'when', 'be', 'you', 'in', 'scotland']\n",
      "['congrats', ':)']\n",
      "['yeaaaah', 'yippppy', 'my', 'accnt', 'verify', 'rqst', 'have', 'succeed', 'get', 'a', 'blue', 'tick', 'mark', 'on', 'my', 'fb', 'profile', ':)', 'in', '15', 'day']\n",
      "['this', 'one', 'be', 'irresistible', ':)', '#flipkartfashionfriday']\n",
      "['we', \"don't\", 'like', 'to', 'keep', 'our', 'lovely', 'customer', 'wait', 'for', 'long', 'we', 'hope', 'you', 'enjoy', 'happy', 'friday', 'lwwf', ':)']\n",
      "['on', 'second', 'thought', 'there', '’', 's', 'just', 'not', 'enough', 'time', 'for', 'a', 'dd', ':)', 'but', 'new', 'short', 'enter', 'system', 'sheep', 'must', 'be', 'buy']\n",
      "['jgh', 'but', 'we', 'have', 'to', 'go', 'to', 'bayan', ':d', 'bye']\n",
      "['as', 'an', 'act', 'of', 'mischievousness', 'be', 'call', 'the', 'etl', 'layer', 'of', 'our', 'in-house', 'warehouse', 'app', 'katamari', 'well', '…', 'as', 'the', 'name', 'imply', ':p']\n"
     ]
    }
   ],
   "source": [
    "#Now writing the function to lemmatize and clean the noise from the tweet_tokens\n",
    "def remove_noise(tweet_tokens, stop_words = ()):\n",
    "  cleaned_token = []\n",
    "  for token, tag in pos_tag(tweet_tokens):\n",
    "    #searching for hyperlinks in this re.sub method and replacing it with ''.\n",
    "    token = re.sub('http[s]?://(?:[a-zA-Z]|[0-9]|[$-_@.&+#]|[!*\\(\\),]|(?:%[0-9a-fA-F][0-9a-fA-F]))+', '', token)\n",
    "    #searching for twitter handel in this re.sub method and replacing it with ''.\n",
    "    token = re.sub('(@[A-Za-z0-9_]+)', '', token)\n",
    "    #lemmatizing it now.\n",
    "    if tag.startswith('NN'):\n",
    "        pos = 'n'\n",
    "    elif tag.startswith('VB'):\n",
    "        pos = 'v'\n",
    "    else:\n",
    "        pos = 'a'\n",
    "    lemmatizer = WordNetLemmatizer()\n",
    "    token = lemmatizer.lemmatize(token, pos)\n",
    "    #checking if the word length is more than 0, it is not in string.puctuation and it is not in stop_word.\n",
    "    if len(token)>0 and token not in string.punctuation and token.lower() not in stop_words:\n",
    "      cleaned_token.append(token.lower())\n",
    "  return cleaned_token\n",
    "\n",
    "#calling the above method:\n",
    "for i in range(10):\n",
    "  print(remove_noise(tweet_tokens[i]))"
   ]
  },
  {
   "cell_type": "code",
   "execution_count": 9,
   "metadata": {
    "id": "GJIqTqSq-RD5"
   },
   "outputs": [],
   "source": [
    "#Now cleaning the data for next next step.\n",
    "positive_tweet_tokens = twitter_samples.tokenized('positive_tweets.json')\n",
    "negative_tweet_tokens = twitter_samples.tokenized('negative_tweets.json')\n",
    "\n",
    "positive_cleaned_tokens_list = []\n",
    "negative_cleaned_tokens_list = []\n",
    "\n",
    "for tokens in positive_tweet_tokens:\n",
    "    positive_cleaned_tokens_list.append(remove_noise(tokens, stop_words))\n",
    "\n",
    "for tokens in negative_tweet_tokens:\n",
    "    negative_cleaned_tokens_list.append(remove_noise(tokens, stop_words))"
   ]
  },
  {
   "cell_type": "code",
   "execution_count": 10,
   "metadata": {
    "colab": {
     "base_uri": "https://localhost:8080/"
    },
    "id": "xremMC1V_8Z2",
    "outputId": "a423aacc-2bf3-404a-a0a5-cf918c97ae31"
   },
   "outputs": [
    {
     "name": "stdout",
     "output_type": "stream",
     "text": [
      "['#FollowFriday', '@MBandScott_', '@Eric_FLE', '@pointsolutions3', 'for', 'being', 'top', 'new', 'followers', 'in', 'my', 'community', 'this', 'week', ':)']\n",
      "['#followfriday', 'top', 'new', 'follower', 'community', 'week', ':)']\n"
     ]
    }
   ],
   "source": [
    "#Comparing the inputs without cleaning and with cleaned version.\n",
    "print(positive_tweet_tokens[20])\n",
    "print(positive_cleaned_tokens_list[20])"
   ]
  },
  {
   "cell_type": "code",
   "execution_count": 11,
   "metadata": {
    "id": "Bqif8eO9AWsk"
   },
   "outputs": [],
   "source": [
    "#function to get all possible words from input tweets:\n",
    "def get_all_words(cleaned_tokens_list):\n",
    "  list_of_words = []\n",
    "  for tokens in cleaned_tokens_list:\n",
    "      for token in tokens:\n",
    "          yield token\n",
    "          list_of_words.append(token)\n",
    "  return list_of_words\n",
    "#running it on positive_cleaned_tokens_list\n",
    "all_pos_words = get_all_words(positive_cleaned_tokens_list)"
   ]
  },
  {
   "cell_type": "code",
   "execution_count": 12,
   "metadata": {
    "id": "CC8RXK93C3u9"
   },
   "outputs": [],
   "source": [
    "#Using the freqDist for finding the distribution.\n",
    "from nltk import FreqDist\n",
    "word_freq = []\n",
    "freq_dist_pos = FreqDist(all_pos_words)\n",
    "word_freq = freq_dist_pos.most_common(20)"
   ]
  },
  {
   "cell_type": "code",
   "execution_count": 13,
   "metadata": {
    "colab": {
     "base_uri": "https://localhost:8080/",
     "height": 428
    },
    "id": "49wAFr-eDRbC",
    "outputId": "3fd2b015-dedd-4fc4-a8a9-6cc647e544cc"
   },
   "outputs": [
    {
     "data": {
      "image/png": "[encoded data removed]",
      "text/plain": [
       "<Figure size 1800x504 with 1 Axes>"
      ]
     },
     "metadata": {
      "needs_background": "light"
     },
     "output_type": "display_data"
    }
   ],
   "source": [
    "# Ploting the most used words just for fun :)\n",
    "word_freq = freq_dist_pos.most_common(50)\n",
    "x = []\n",
    "y = []\n",
    "for i in range(len(word_freq)):\n",
    "  x.append(word_freq[i][0])\n",
    "  y.append(word_freq[i][1])\n",
    "\n",
    "import matplotlib.pyplot as plt\n",
    "plt.figure(figsize=(25,7))\n",
    "plt.bar(x, y)\n",
    "plt.show()"
   ]
  },
  {
   "cell_type": "code",
   "execution_count": 14,
   "metadata": {
    "id": "f0FTSP5eFzqw"
   },
   "outputs": [],
   "source": [
    "#The Naive Bayes classifier model requires a Python dictionary with words as keys and True as values.\n",
    "def get_tweets_for_model(cleaned_tokens_list):\n",
    "    for tweet_tokens in cleaned_tokens_list:\n",
    "        yield dict([token, True] for token in tweet_tokens)\n",
    "\n",
    "positive_tokens_for_model = get_tweets_for_model(positive_cleaned_tokens_list)\n",
    "negative_tokens_for_model = get_tweets_for_model(negative_cleaned_tokens_list)"
   ]
  },
  {
   "cell_type": "code",
   "execution_count": 15,
   "metadata": {
    "colab": {
     "base_uri": "https://localhost:8080/"
    },
    "id": "l3Di59GDKKtq",
    "outputId": "16760210-dcdb-495b-ee88-e2b74aab8c4c"
   },
   "outputs": [
    {
     "name": "stdout",
     "output_type": "stream",
     "text": [
      "10000\n"
     ]
    }
   ],
   "source": [
    "# Splitting the Dataset for Training and Testing the Model\n",
    "import random\n",
    "\n",
    "positive_dataset = [(tweet_dict, \"Positive\") for tweet_dict in positive_tokens_for_model]\n",
    "negative_dataset = [(tweet_dict, \"Negative\") for tweet_dict in negative_tokens_for_model]\n",
    "dataset = positive_dataset + negative_dataset\n",
    "\n",
    "#getting the total size of our dataset.\n",
    "print(len(positive_cleaned_tokens_list) + len(negative_cleaned_tokens_list))\n",
    "random.shuffle(dataset)\n",
    "\n",
    "# Spliting it into 0-6999 for training and 7000 - 10000 for testing.\n",
    "train_data = dataset[:7000]\n",
    "test_data = dataset[0:]"
   ]
  },
  {
   "cell_type": "markdown",
   "metadata": {
    "id": "_plN7eENPCH9"
   },
   "source": [
    "**Building and Testing the Model**\n",
    "\n",
    "We  are going to use the `NaiveBayesClassifier` class to build the model. Use the `.train()` method to train the model and the `.accuracy()` method to test the model on the testing data."
   ]
  },
  {
   "cell_type": "code",
   "execution_count": 16,
   "metadata": {
    "id": "lcWzTxRUPeM5"
   },
   "outputs": [],
   "source": [
    "from nltk import classify\n",
    "from nltk import NaiveBayesClassifier\n",
    "classifier = NaiveBayesClassifier.train(train_data)"
   ]
  },
  {
   "cell_type": "code",
   "execution_count": 17,
   "metadata": {
    "colab": {
     "base_uri": "https://localhost:8080/"
    },
    "id": "KwNtiPj_YTcJ",
    "outputId": "5f2e7ba9-34dd-4d2e-9adb-e6d2b2a60ad6"
   },
   "outputs": [
    {
     "name": "stdout",
     "output_type": "stream",
     "text": [
      "Accuracy in percentage: 99.75\n",
      "Most Informative Features\n",
      "                      :( = True           Negati : Positi =   2043.5 : 1.0\n",
      "                      :) = True           Positi : Negati =   1694.2 : 1.0\n",
      "                     sad = True           Negati : Positi =     22.6 : 1.0\n",
      "                follower = True           Positi : Negati =     20.9 : 1.0\n",
      "                     bam = True           Positi : Negati =     20.7 : 1.0\n",
      "                    glad = True           Positi : Negati =     19.3 : 1.0\n",
      "                 welcome = True           Positi : Negati =     15.5 : 1.0\n",
      "                  arrive = True           Positi : Negati =     13.2 : 1.0\n",
      "                     ugh = True           Negati : Positi =     12.8 : 1.0\n",
      "                followed = True           Negati : Positi =     12.4 : 1.0\n",
      "None\n"
     ]
    }
   ],
   "source": [
    "print(\"Accuracy in percentage:\", classify.accuracy(classifier, test_data)*100)\n",
    "print(classifier.show_most_informative_features(10))"
   ]
  },
  {
   "cell_type": "markdown",
   "metadata": {
    "id": "jnuYpr7AfWCA"
   },
   "source": [
    "**Now testing the custom sentences with same model.**"
   ]
  },
  {
   "cell_type": "code",
   "execution_count": 18,
   "metadata": {
    "colab": {
     "base_uri": "https://localhost:8080/"
    },
    "id": "dclE0O2ne70o",
    "outputId": "4dd2c954-94d8-42a6-b68a-548187d11670"
   },
   "outputs": [
    {
     "name": "stdout",
     "output_type": "stream",
     "text": [
      "Positive\n"
     ]
    }
   ],
   "source": [
    "from nltk.tokenize import word_tokenize\n",
    "custom_tweet = \"I made the best out of worst possible situation.\"\n",
    "custom_tokens = remove_noise(word_tokenize(custom_tweet))\n",
    "print(classifier.classify(dict([token, True] for token in custom_tokens)))"
   ]
  },
  {
   "cell_type": "code",
   "execution_count": null,
   "metadata": {
    "id": "ek6bAh1f5ehu"
   },
   "outputs": [],
   "source": []
  }
 ],
 "metadata": {
  "colab": {
   "collapsed_sections": [],
   "name": "Sentiment Analysis using NLTK and NaiveBayersClassifier.ipynb",
   "provenance": []
  },
  "kernelspec": {
   "display_name": "Python 3 (ipykernel)",
   "language": "python",
   "name": "python3"
  },
  "language_info": {
   "codemirror_mode": {
    "name": "ipython",
    "version": 3
   },
   "file_extension": ".py",
   "mimetype": "text/x-python",
   "name": "python",
   "nbconvert_exporter": "python",
   "pygments_lexer": "ipython3",
   "version": "3.9.7"
  }
 },
 "nbformat": 4,
 "nbformat_minor": 4
}
